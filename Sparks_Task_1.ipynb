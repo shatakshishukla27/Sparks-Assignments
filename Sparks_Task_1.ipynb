{
  "nbformat": 4,
  "nbformat_minor": 0,
  "metadata": {
    "kernelspec": {
      "display_name": "Python 3",
      "language": "python",
      "name": "python3"
    },
    "language_info": {
      "codemirror_mode": {
        "name": "ipython",
        "version": 3
      },
      "file_extension": ".py",
      "mimetype": "text/x-python",
      "name": "python",
      "nbconvert_exporter": "python",
      "pygments_lexer": "ipython3",
      "version": "3.7.4"
    },
    "colab": {
      "name": "Sparks Task 1.ipynb",
      "provenance": []
    }
  },
  "cells": [
    {
      "cell_type": "markdown",
      "metadata": {
        "id": "2SIiR_tFn2Sw"
      },
      "source": [
        "# Supervised Machine Learning"
      ]
    },
    {
      "cell_type": "markdown",
      "metadata": {
        "id": "_QAGRPRetCnH"
      },
      "source": [
        "Supervised learning is used when the target variable is present in the dataset. Models can be trained on classification (Target variable is categorical) or regression data (Target variable is continuous)."
      ]
    },
    {
      "cell_type": "markdown",
      "metadata": {
        "id": "asJKCf7Y6EZ4"
      },
      "source": [
        "## AIM: To apply linear regression over the 2 dimensional data"
      ]
    },
    {
      "cell_type": "markdown",
      "metadata": {
        "id": "BypvkyrT59ZI"
      },
      "source": [
        "## Name: Shatakshi Shukla"
      ]
    },
    {
      "cell_type": "markdown",
      "metadata": {
        "id": "npiZ9SUU59Tw"
      },
      "source": [
        ""
      ]
    },
    {
      "cell_type": "markdown",
      "metadata": {
        "id": "zD2YKHMBn2S5"
      },
      "source": [
        "# Linear Regression"
      ]
    },
    {
      "cell_type": "markdown",
      "metadata": {
        "id": "Vy3p-WAYuW0J"
      },
      "source": [
        "## Import Libraries"
      ]
    },
    {
      "cell_type": "code",
      "metadata": {
        "id": "ih8z_rApn2S7"
      },
      "source": [
        "import numpy as np\n",
        "import seaborn as sns\n",
        "import pandas as pd\n",
        "import matplotlib.pyplot as plt\n",
        "from sklearn.model_selection import train_test_split # To Split data for training and testing\n",
        "from sklearn.metrics import mean_absolute_error, mean_squared_error, r2_score # To evaluate model\n",
        "from sklearn.preprocessing import MinMaxScaler # To scale train data\n",
        "from sklearn.linear_model import LinearRegression # Linear Regression Model\n",
        "%matplotlib inline"
      ],
      "execution_count": 1,
      "outputs": []
    },
    {
      "cell_type": "markdown",
      "metadata": {
        "id": "LoxjSLO3uZiI"
      },
      "source": [
        "## Read Data from the Link Provided"
      ]
    },
    {
      "cell_type": "code",
      "metadata": {
        "id": "o1XMglF1n2S-",
        "colab": {
          "base_uri": "https://localhost:8080/"
        },
        "outputId": "663bda50-fa14-421c-cf87-862aeabc9e68"
      },
      "source": [
        "# Load Data from link in dataframe\n",
        "data=pd.read_csv('http://bit.ly/w-data')\n",
        "print('Data Loaded')"
      ],
      "execution_count": 2,
      "outputs": [
        {
          "output_type": "stream",
          "text": [
            "Data Loaded\n"
          ],
          "name": "stdout"
        }
      ]
    },
    {
      "cell_type": "markdown",
      "metadata": {
        "id": "1LCoJKyfunpL"
      },
      "source": [
        "## Data Description"
      ]
    },
    {
      "cell_type": "code",
      "metadata": {
        "id": "1sSVRy1Hn2TC",
        "colab": {
          "base_uri": "https://localhost:8080/",
          "height": 206
        },
        "outputId": "70528dc2-0215-4484-d349-96a23cf4ecb4"
      },
      "source": [
        "data.head() # It returns the top five rows of the data"
      ],
      "execution_count": 3,
      "outputs": [
        {
          "output_type": "execute_result",
          "data": {
            "text/html": [
              "<div>\n",
              "<style scoped>\n",
              "    .dataframe tbody tr th:only-of-type {\n",
              "        vertical-align: middle;\n",
              "    }\n",
              "\n",
              "    .dataframe tbody tr th {\n",
              "        vertical-align: top;\n",
              "    }\n",
              "\n",
              "    .dataframe thead th {\n",
              "        text-align: right;\n",
              "    }\n",
              "</style>\n",
              "<table border=\"1\" class=\"dataframe\">\n",
              "  <thead>\n",
              "    <tr style=\"text-align: right;\">\n",
              "      <th></th>\n",
              "      <th>Hours</th>\n",
              "      <th>Scores</th>\n",
              "    </tr>\n",
              "  </thead>\n",
              "  <tbody>\n",
              "    <tr>\n",
              "      <th>0</th>\n",
              "      <td>2.5</td>\n",
              "      <td>21</td>\n",
              "    </tr>\n",
              "    <tr>\n",
              "      <th>1</th>\n",
              "      <td>5.1</td>\n",
              "      <td>47</td>\n",
              "    </tr>\n",
              "    <tr>\n",
              "      <th>2</th>\n",
              "      <td>3.2</td>\n",
              "      <td>27</td>\n",
              "    </tr>\n",
              "    <tr>\n",
              "      <th>3</th>\n",
              "      <td>8.5</td>\n",
              "      <td>75</td>\n",
              "    </tr>\n",
              "    <tr>\n",
              "      <th>4</th>\n",
              "      <td>3.5</td>\n",
              "      <td>30</td>\n",
              "    </tr>\n",
              "  </tbody>\n",
              "</table>\n",
              "</div>"
            ],
            "text/plain": [
              "   Hours  Scores\n",
              "0    2.5      21\n",
              "1    5.1      47\n",
              "2    3.2      27\n",
              "3    8.5      75\n",
              "4    3.5      30"
            ]
          },
          "metadata": {
            "tags": []
          },
          "execution_count": 3
        }
      ]
    },
    {
      "cell_type": "markdown",
      "metadata": {
        "id": "r2zOlM7rn2TE"
      },
      "source": [
        "Dataset has two columns 'Hours' and 'Scores' where 'Hours' is independent feature and 'Scores' is target feature."
      ]
    },
    {
      "cell_type": "code",
      "metadata": {
        "id": "iXh192vMvHsp",
        "colab": {
          "base_uri": "https://localhost:8080/",
          "height": 300
        },
        "outputId": "339c0d8c-0ec7-4bc8-aa86-5716aa795c32"
      },
      "source": [
        "data.describe() # Returns data columns statistical properties"
      ],
      "execution_count": 4,
      "outputs": [
        {
          "output_type": "execute_result",
          "data": {
            "text/html": [
              "<div>\n",
              "<style scoped>\n",
              "    .dataframe tbody tr th:only-of-type {\n",
              "        vertical-align: middle;\n",
              "    }\n",
              "\n",
              "    .dataframe tbody tr th {\n",
              "        vertical-align: top;\n",
              "    }\n",
              "\n",
              "    .dataframe thead th {\n",
              "        text-align: right;\n",
              "    }\n",
              "</style>\n",
              "<table border=\"1\" class=\"dataframe\">\n",
              "  <thead>\n",
              "    <tr style=\"text-align: right;\">\n",
              "      <th></th>\n",
              "      <th>Hours</th>\n",
              "      <th>Scores</th>\n",
              "    </tr>\n",
              "  </thead>\n",
              "  <tbody>\n",
              "    <tr>\n",
              "      <th>count</th>\n",
              "      <td>25.000000</td>\n",
              "      <td>25.000000</td>\n",
              "    </tr>\n",
              "    <tr>\n",
              "      <th>mean</th>\n",
              "      <td>5.012000</td>\n",
              "      <td>51.480000</td>\n",
              "    </tr>\n",
              "    <tr>\n",
              "      <th>std</th>\n",
              "      <td>2.525094</td>\n",
              "      <td>25.286887</td>\n",
              "    </tr>\n",
              "    <tr>\n",
              "      <th>min</th>\n",
              "      <td>1.100000</td>\n",
              "      <td>17.000000</td>\n",
              "    </tr>\n",
              "    <tr>\n",
              "      <th>25%</th>\n",
              "      <td>2.700000</td>\n",
              "      <td>30.000000</td>\n",
              "    </tr>\n",
              "    <tr>\n",
              "      <th>50%</th>\n",
              "      <td>4.800000</td>\n",
              "      <td>47.000000</td>\n",
              "    </tr>\n",
              "    <tr>\n",
              "      <th>75%</th>\n",
              "      <td>7.400000</td>\n",
              "      <td>75.000000</td>\n",
              "    </tr>\n",
              "    <tr>\n",
              "      <th>max</th>\n",
              "      <td>9.200000</td>\n",
              "      <td>95.000000</td>\n",
              "    </tr>\n",
              "  </tbody>\n",
              "</table>\n",
              "</div>"
            ],
            "text/plain": [
              "           Hours     Scores\n",
              "count  25.000000  25.000000\n",
              "mean    5.012000  51.480000\n",
              "std     2.525094  25.286887\n",
              "min     1.100000  17.000000\n",
              "25%     2.700000  30.000000\n",
              "50%     4.800000  47.000000\n",
              "75%     7.400000  75.000000\n",
              "max     9.200000  95.000000"
            ]
          },
          "metadata": {
            "tags": []
          },
          "execution_count": 4
        }
      ]
    },
    {
      "cell_type": "markdown",
      "metadata": {
        "id": "-2voJp5evGLG"
      },
      "source": [
        "1. Data has 25 rows.\n",
        "2. Min and Max hours are 1.1 and 9.2 respectively. Mean and median of hours are 5.01 and 4.8 which are almost similar. So, data is almost normally distributed"
      ]
    },
    {
      "cell_type": "markdown",
      "metadata": {
        "id": "ObPu06nOn2TF"
      },
      "source": [
        "## Plotting our data"
      ]
    },
    {
      "cell_type": "code",
      "metadata": {
        "id": "FGWkjsSDn2TG",
        "colab": {
          "base_uri": "https://localhost:8080/",
          "height": 312
        },
        "outputId": "db77f546-2745-4b50-d1c2-e1e3bbf5c5f6"
      },
      "source": [
        "plt.scatter(x='Hours',y='Scores', data=data, c='blue')\n",
        "plt.xlabel('Hours')\n",
        "plt.ylabel('Scores')\n",
        "plt.title('Hours v/s Scores')"
      ],
      "execution_count": 5,
      "outputs": [
        {
          "output_type": "execute_result",
          "data": {
            "text/plain": [
              "Text(0.5, 1.0, 'Hours v/s Scores')"
            ]
          },
          "metadata": {
            "tags": []
          },
          "execution_count": 5
        },
        {
          "output_type": "display_data",
          "data": {
            "image/png": "[encoded data removed]",
            "text/plain": [
              "<Figure size 432x288 with 1 Axes>"
            ]
          },
          "metadata": {
            "tags": [],
            "needs_background": "light"
          }
        }
      ]
    },
    {
      "cell_type": "markdown",
      "metadata": {
        "id": "BDA3OUGFvwKq"
      },
      "source": [
        "Data appears quite linear. So fitting model will not be a problem. Losses would be quite minimal."
      ]
    },
    {
      "cell_type": "code",
      "metadata": {
        "id": "m4hP2wj8n2TJ",
        "colab": {
          "base_uri": "https://localhost:8080/",
          "height": 296
        },
        "outputId": "a8b6d846-5248-466b-8a5e-678dcd19e5ae"
      },
      "source": [
        "sns.kdeplot(data['Hours'], color='red')"
      ],
      "execution_count": 6,
      "outputs": [
        {
          "output_type": "execute_result",
          "data": {
            "text/plain": [
              "<matplotlib.axes._subplots.AxesSubplot at 0x7f88acfcb190>"
            ]
          },
          "metadata": {
            "tags": []
          },
          "execution_count": 6
        },
        {
          "output_type": "display_data",
          "data": {
            "image/png": "[encoded data removed]",
            "text/plain": [
              "<Figure size 432x288 with 1 Axes>"
            ]
          },
          "metadata": {
            "tags": [],
            "needs_background": "light"
          }
        }
      ]
    },
    {
      "cell_type": "markdown",
      "metadata": {
        "id": "QDxET4SSv60y"
      },
      "source": [
        "\"Hours\" is somewhat normally distributed."
      ]
    },
    {
      "cell_type": "markdown",
      "metadata": {
        "id": "oL3cqhgZn2TJ"
      },
      "source": [
        "Since, our data is following linear relation between dependent and independent features Therefore it doesn't need any transformation"
      ]
    },
    {
      "cell_type": "markdown",
      "metadata": {
        "id": "ttcIUcjAn2TK"
      },
      "source": [
        "## Spliting data into Train and Test"
      ]
    },
    {
      "cell_type": "code",
      "metadata": {
        "id": "cXN6XeFrn2TL"
      },
      "source": [
        "X=np.array(data['Hours']).reshape(-1,1)\n",
        "Y=np.array(data['Scores']).reshape(-1,1)"
      ],
      "execution_count": 7,
      "outputs": []
    },
    {
      "cell_type": "code",
      "metadata": {
        "id": "CAQVXzLon2TM"
      },
      "source": [
        "x_train,x_test,y_train,y_test=train_test_split(X, Y, test_size=0.20, random_state=42) # Test data size is 20 percent of data"
      ],
      "execution_count": 8,
      "outputs": []
    },
    {
      "cell_type": "code",
      "metadata": {
        "id": "l_Ud_7Vnn2TN",
        "colab": {
          "base_uri": "https://localhost:8080/"
        },
        "outputId": "24b971ce-2fd4-468b-b766-c9588c3c2833"
      },
      "source": [
        "print(f'Shape of x_train {x_train.shape}')\n",
        "print(f'Shape of x_test {x_test.shape}')\n",
        "print(f'Shape of y_train {y_train.shape}')\n",
        "print(f'Shape of y_test {y_test.shape}')"
      ],
      "execution_count": 9,
      "outputs": [
        {
          "output_type": "stream",
          "text": [
            "Shape of x_train (20, 1)\n",
            "Shape of x_test (5, 1)\n",
            "Shape of y_train (20, 1)\n",
            "Shape of y_test (5, 1)\n"
          ],
          "name": "stdout"
        }
      ]
    },
    {
      "cell_type": "markdown",
      "metadata": {
        "id": "K9WMPaB3wvoE"
      },
      "source": [
        "## Scale the Data"
      ]
    },
    {
      "cell_type": "code",
      "metadata": {
        "id": "ZRuZoHrvwaMX"
      },
      "source": [
        "scaler = MinMaxScaler()\n",
        "x_train = scaler.fit_transform(x_train) # Fit the MinMaxScaler on train data and transform\n",
        "x_test = scaler.transform(x_test) # Fit the MinMaxScaler on train data and transform"
      ],
      "execution_count": 10,
      "outputs": []
    },
    {
      "cell_type": "markdown",
      "metadata": {
        "id": "RHlNqt20w6dE"
      },
      "source": [
        "## Create Variables to Pass to Model"
      ]
    },
    {
      "cell_type": "code",
      "metadata": {
        "id": "kJ4k13jDn2TN"
      },
      "source": [
        "X_train=np.array(x_train).reshape(-1,1)\n",
        "Y_train=np.array(y_train).reshape(-1,1)\n",
        "X_test=np.array(x_test).reshape(-1,1)\n",
        "Y_test=np.array(y_test).reshape(-1,1)"
      ],
      "execution_count": 11,
      "outputs": []
    },
    {
      "cell_type": "markdown",
      "metadata": {
        "id": "9bJcSa83n2TN"
      },
      "source": [
        "## Initialize Model"
      ]
    },
    {
      "cell_type": "code",
      "metadata": {
        "id": "gBQoln07n2TP"
      },
      "source": [
        "reg=LinearRegression() # Load Linear Regression object"
      ],
      "execution_count": 12,
      "outputs": []
    },
    {
      "cell_type": "markdown",
      "metadata": {
        "id": "fz1_EfevxF8L"
      },
      "source": [
        "## Train the Model"
      ]
    },
    {
      "cell_type": "code",
      "metadata": {
        "id": "G5bxHOq_n2TP",
        "colab": {
          "base_uri": "https://localhost:8080/"
        },
        "outputId": "83915abd-b65b-4c4f-add6-71058acdee5d"
      },
      "source": [
        "reg.fit(X_train,Y_train) # Train the model on training data"
      ],
      "execution_count": 13,
      "outputs": [
        {
          "output_type": "execute_result",
          "data": {
            "text/plain": [
              "LinearRegression(copy_X=True, fit_intercept=True, n_jobs=None, normalize=False)"
            ]
          },
          "metadata": {
            "tags": []
          },
          "execution_count": 13
        }
      ]
    },
    {
      "cell_type": "markdown",
      "metadata": {
        "id": "deL4QJLIn2TQ"
      },
      "source": [
        "## Model Evaluation"
      ]
    },
    {
      "cell_type": "code",
      "metadata": {
        "id": "9RyAxc5dn2TQ"
      },
      "source": [
        "prediction=reg.predict(X_test) # Get the predictions for Test Data"
      ],
      "execution_count": 14,
      "outputs": []
    },
    {
      "cell_type": "markdown",
      "metadata": {
        "id": "cgCw3KLZxJlz"
      },
      "source": [
        "## Model Accuracy over Test Data"
      ]
    },
    {
      "cell_type": "code",
      "metadata": {
        "id": "47K0EOghn2TR",
        "colab": {
          "base_uri": "https://localhost:8080/"
        },
        "outputId": "8f215b5c-728d-4745-824a-b16b09ea7766"
      },
      "source": [
        "accuracy=reg.score(X_test,Y_test) # Get accuracy score for test data\n",
        "print(f\"Our model's accuracy is {np.round(accuracy*100,2)}%\")"
      ],
      "execution_count": 15,
      "outputs": [
        {
          "output_type": "stream",
          "text": [
            "Our model's accuracy is 96.78%\n"
          ],
          "name": "stdout"
        }
      ]
    },
    {
      "cell_type": "markdown",
      "metadata": {
        "id": "0GZmDuv4n2TR"
      },
      "source": [
        "## Get parameters of the model"
      ]
    },
    {
      "cell_type": "code",
      "metadata": {
        "id": "l2rdV-pVn2TS",
        "colab": {
          "base_uri": "https://localhost:8080/"
        },
        "outputId": "1decf401-73f4-4ac2-e2e3-efd1440ffab8"
      },
      "source": [
        "print(\"The slope is \",reg.coef_)"
      ],
      "execution_count": 16,
      "outputs": [
        {
          "output_type": "stream",
          "text": [
            "The slope is  [[78.42483305]]\n"
          ],
          "name": "stdout"
        }
      ]
    },
    {
      "cell_type": "code",
      "metadata": {
        "id": "-iHwNbnun2TS",
        "colab": {
          "base_uri": "https://localhost:8080/"
        },
        "outputId": "f525a95f-1dfe-433b-b250-e63f04fc66b0"
      },
      "source": [
        "print(\"The y-intercept is \",reg.intercept_)"
      ],
      "execution_count": 17,
      "outputs": [
        {
          "output_type": "stream",
          "text": [
            "The y-intercept is  [13.47717832]\n"
          ],
          "name": "stdout"
        }
      ]
    },
    {
      "cell_type": "markdown",
      "metadata": {
        "id": "3YYMYnHNxUs1"
      },
      "source": [
        "## Model Error Evaluation"
      ]
    },
    {
      "cell_type": "code",
      "metadata": {
        "id": "JqZkxuyOn2TT",
        "colab": {
          "base_uri": "https://localhost:8080/"
        },
        "outputId": "8280b193-6bd8-494c-e6a6-44128c400dfe"
      },
      "source": [
        "print(f'Mean absolute error is {mean_absolute_error(Y_test, prediction)}')"
      ],
      "execution_count": 18,
      "outputs": [
        {
          "output_type": "stream",
          "text": [
            "Mean absolute error is 3.9207511902099226\n"
          ],
          "name": "stdout"
        }
      ]
    },
    {
      "cell_type": "code",
      "metadata": {
        "id": "onbFh8Xmn2TT",
        "colab": {
          "base_uri": "https://localhost:8080/"
        },
        "outputId": "ba0d1af4-adc8-4edb-9d58-af01787f7f06"
      },
      "source": [
        "print(f'Mean squared error is {mean_squared_error(Y_test, prediction)}')"
      ],
      "execution_count": 19,
      "outputs": [
        {
          "output_type": "stream",
          "text": [
            "Mean squared error is 18.943211722315247\n"
          ],
          "name": "stdout"
        }
      ]
    },
    {
      "cell_type": "code",
      "metadata": {
        "id": "OWB08SKEn2TU",
        "colab": {
          "base_uri": "https://localhost:8080/"
        },
        "outputId": "6d06d670-8f3d-438f-8d4b-d85dc81aca2d"
      },
      "source": [
        "print(f'Root mean absolute error is {np.sqrt(mean_squared_error(Y_test, prediction))}')"
      ],
      "execution_count": 20,
      "outputs": [
        {
          "output_type": "stream",
          "text": [
            "Root mean absolute error is 4.352380006653285\n"
          ],
          "name": "stdout"
        }
      ]
    },
    {
      "cell_type": "code",
      "metadata": {
        "id": "q_AF_Z0gn2TV",
        "colab": {
          "base_uri": "https://localhost:8080/"
        },
        "outputId": "cc396a6f-6e05-477a-c95e-b1d1f1227c16"
      },
      "source": [
        "print(f'R-square value is : {r2_score(y_test, prediction)}') # R Square is Accuracy"
      ],
      "execution_count": 21,
      "outputs": [
        {
          "output_type": "stream",
          "text": [
            "R-square value is : 0.9678055545167994\n"
          ],
          "name": "stdout"
        }
      ]
    },
    {
      "cell_type": "markdown",
      "metadata": {
        "id": "AfFfMugAn2TV"
      },
      "source": [
        "## Plot Results for Train Data"
      ]
    },
    {
      "cell_type": "markdown",
      "metadata": {
        "id": "7WlammP7n2TV"
      },
      "source": [
        "### Equation of Line "
      ]
    },
    {
      "cell_type": "code",
      "metadata": {
        "id": "zzJ4tEyIn2TW"
      },
      "source": [
        "y=X_train*reg.coef_+reg.intercept_ # y = mx+c"
      ],
      "execution_count": 22,
      "outputs": []
    },
    {
      "cell_type": "markdown",
      "metadata": {
        "id": "uGEWeUBd0bcV"
      },
      "source": [
        "### Plot Data and Line"
      ]
    },
    {
      "cell_type": "code",
      "metadata": {
        "id": "hDZF9vnwn2TW",
        "colab": {
          "base_uri": "https://localhost:8080/",
          "height": 312
        },
        "outputId": "1381e6e9-9302-42da-b83f-edfc388ff63c"
      },
      "source": [
        "plt.plot(X_train,y, color='black')  # plots regression line\n",
        "plt.scatter(x_train,y_train, color='red') # plots train data\n",
        "plt.legend(['Regression line'])\n",
        "plt.xlabel('Hours')\n",
        "plt.ylabel('Scores')\n",
        "plt.title('Scores v/s Hours')"
      ],
      "execution_count": 23,
      "outputs": [
        {
          "output_type": "execute_result",
          "data": {
            "text/plain": [
              "Text(0.5, 1.0, 'Scores v/s Hours')"
            ]
          },
          "metadata": {
            "tags": []
          },
          "execution_count": 23
        },
        {
          "output_type": "display_data",
          "data": {
            "image/png": "[encoded data removed]",
            "text/plain": [
              "<Figure size 432x288 with 1 Axes>"
            ]
          },
          "metadata": {
            "tags": [],
            "needs_background": "light"
          }
        }
      ]
    },
    {
      "cell_type": "markdown",
      "metadata": {
        "id": "xwzAkeYL0sJb"
      },
      "source": [
        "## Plot Results for Train Data"
      ]
    },
    {
      "cell_type": "markdown",
      "metadata": {
        "id": "3_zOxTB7n2TY"
      },
      "source": [
        "### Equation of Line "
      ]
    },
    {
      "cell_type": "code",
      "metadata": {
        "id": "EGsFKflOn2TY"
      },
      "source": [
        "y=X_test*reg.coef_+reg.intercept_ # y = mx+c"
      ],
      "execution_count": 24,
      "outputs": []
    },
    {
      "cell_type": "markdown",
      "metadata": {
        "id": "wsJ_f9pn00zy"
      },
      "source": [
        "### Plot Data and Line"
      ]
    },
    {
      "cell_type": "code",
      "metadata": {
        "id": "aM24QEQkn2TY",
        "colab": {
          "base_uri": "https://localhost:8080/",
          "height": 312
        },
        "outputId": "f5434508-6597-425f-ef37-7d8d1905b703"
      },
      "source": [
        "plt.plot(X_test,y, color='black') # plots regression line\n",
        "plt.scatter(x_test, y_test, color='blue') # plots train data\n",
        "plt.legend(['Regression line'])\n",
        "plt.xlabel('Hours')\n",
        "plt.ylabel('Scores')\n",
        "plt.title('Scores v/s Hours')"
      ],
      "execution_count": 25,
      "outputs": [
        {
          "output_type": "execute_result",
          "data": {
            "text/plain": [
              "Text(0.5, 1.0, 'Scores v/s Hours')"
            ]
          },
          "metadata": {
            "tags": []
          },
          "execution_count": 25
        },
        {
          "output_type": "display_data",
          "data": {
            "image/png": "[encoded data removed]",
            "text/plain": [
              "<Figure size 432x288 with 1 Axes>"
            ]
          },
          "metadata": {
            "tags": [],
            "needs_background": "light"
          }
        }
      ]
    },
    {
      "cell_type": "markdown",
      "metadata": {
        "id": "XUrH3uTIn2TY"
      },
      "source": [
        "## Predict on New Data"
      ]
    },
    {
      "cell_type": "markdown",
      "metadata": {
        "id": "yYxnnBvPn2TY"
      },
      "source": [
        "What will be the predicted score if a student studies for 8.53 hours?"
      ]
    },
    {
      "cell_type": "code",
      "metadata": {
        "id": "ZB_kLK-bn2TY"
      },
      "source": [
        "hours=8.53\n",
        "predicted_score=reg.predict(scaler.transform(np.array([hours]).reshape(-1,1))) # New Prediction"
      ],
      "execution_count": 26,
      "outputs": []
    },
    {
      "cell_type": "code",
      "metadata": {
        "id": "UykXVUfjn2TY",
        "colab": {
          "base_uri": "https://localhost:8080/"
        },
        "outputId": "9f03ba9a-dc59-49e6-c8d9-aa5e3826a5cd"
      },
      "source": [
        "print(f'For {hours} Hours study the predicted marks scored will be {predicted_score[0][0]}')"
      ],
      "execution_count": 27,
      "outputs": [
        {
          "output_type": "stream",
          "text": [
            "For 8.53 Hours study the predicted marks scored will be 85.41501901140686\n"
          ],
          "name": "stdout"
        }
      ]
    },
    {
      "cell_type": "markdown",
      "metadata": {
        "id": "kNlVlKwe6Lou"
      },
      "source": [
        "## Inference: Linear regression applied over the data and accuracy of about 97 percent achieved."
      ]
    }
  ]
}